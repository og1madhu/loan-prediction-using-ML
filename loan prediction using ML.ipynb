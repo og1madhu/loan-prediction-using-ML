{
 "cells": [
  {
   "cell_type": "markdown",
   "id": "faaf1b88",
   "metadata": {},
   "source": [
    "# Smarter Lending Decisions: ML-powered Loan Prediction\n",
    "\n",
    "Step into the world of data-driven lending decisions with Alex, the ML-powered lending wizard, in our project, \"Smarter Lending Decisions: ML-powered Loan Prediction.\" In today's dynamic financial landscape, accurately assessing creditworthiness is key to mitigating risk for lending institutions. With the power of machine learning, Alex ventures into the realm of loan prediction, offering cutting-edge solutions for smarter, more sustainable lending practices.\n",
    "\n",
    "The ability to predict whether a loan applicant will default or repay their loan is vital for lending institutions. Leveraging advancements in technology and the abundance of data, machine learning models have emerged as robust tools, surpassing traditional statistical approaches in accuracy and efficiency.\n",
    "\n",
    "An organization aims to predict potential loan defaulters for their consumer loan product. With historical customer behavior data at their disposal, they seek to identify riskier applicants when acquiring new customers, ensuring sound lending decisions.\n",
    "\n",
    "After preprocessing and splitting the data into training and testing sets, the journey unfolds. Three distinct ML classification models take center stage. Each model is meticulously fitted with the training data, and their accuracy, precision, recall, and F1 score—the crucial metrics for classification problems—are evaluated. Finally, a champion model is selected to make predictions about whether a loan applicant will default or repay.\n",
    "\n",
    "Our project isn't just about predictions; it's an expedition into revolutionizing the lending landscape. The outcome empowers organizations to make informed and strategic decisions, ultimately maximizing profitability and ensuring sustainable lending practices."
   ]
  },
  {
   "cell_type": "markdown",
   "id": "65b8031f",
   "metadata": {},
   "source": [
    "# Module 1\n",
    "\n",
    "## Task 1: Data Import for Loan Prediction\n",
    "In our project, \"Smarter Lending Decisions: ML-powered Loan Prediction,\" this initial task involves importing a loan dataset from the 'loan_dataset.csv' file. This step is fundamental as it provides the core data required for our machine learning-driven loan prediction analysis. The imported dataset lays the groundwork for training models and making predictive assessments, contributing to smarter decision-making in lending."
   ]
  },
  {
   "cell_type": "code",
   "execution_count": 1,
   "id": "af4875ec",
   "metadata": {
    "ExecuteTime": {
     "end_time": "2024-02-14T11:49:44.558677Z",
     "start_time": "2024-02-14T11:49:44.053270Z"
    }
   },
   "outputs": [],
   "source": [
    "import pandas as pd"
   ]
  },
  {
   "cell_type": "code",
   "execution_count": 2,
   "id": "e99ff1fe",
   "metadata": {
    "ExecuteTime": {
     "end_time": "2024-02-14T11:50:07.797480Z",
     "start_time": "2024-02-14T11:50:07.613395Z"
    }
   },
   "outputs": [
    {
     "data": {
      "text/html": [
       "<div>\n",
       "<style scoped>\n",
       "    .dataframe tbody tr th:only-of-type {\n",
       "        vertical-align: middle;\n",
       "    }\n",
       "\n",
       "    .dataframe tbody tr th {\n",
       "        vertical-align: top;\n",
       "    }\n",
       "\n",
       "    .dataframe thead th {\n",
       "        text-align: right;\n",
       "    }\n",
       "</style>\n",
       "<table border=\"1\" class=\"dataframe\">\n",
       "  <thead>\n",
       "    <tr style=\"text-align: right;\">\n",
       "      <th></th>\n",
       "      <th>Id</th>\n",
       "      <th>Income</th>\n",
       "      <th>Age</th>\n",
       "      <th>Experience</th>\n",
       "      <th>Married/Single</th>\n",
       "      <th>House_Ownership</th>\n",
       "      <th>Car_Ownership</th>\n",
       "      <th>Profession</th>\n",
       "      <th>CITY</th>\n",
       "      <th>STATE</th>\n",
       "      <th>CURRENT_JOB_YRS</th>\n",
       "      <th>CURRENT_HOUSE_YRS</th>\n",
       "      <th>Risk_Flag</th>\n",
       "    </tr>\n",
       "  </thead>\n",
       "  <tbody>\n",
       "    <tr>\n",
       "      <th>0</th>\n",
       "      <td>1</td>\n",
       "      <td>1303834</td>\n",
       "      <td>23</td>\n",
       "      <td>3</td>\n",
       "      <td>single</td>\n",
       "      <td>rented</td>\n",
       "      <td>no</td>\n",
       "      <td>Mechanical_engineer</td>\n",
       "      <td>Rewa</td>\n",
       "      <td>Madhya_Pradesh</td>\n",
       "      <td>3</td>\n",
       "      <td>13</td>\n",
       "      <td>0</td>\n",
       "    </tr>\n",
       "    <tr>\n",
       "      <th>1</th>\n",
       "      <td>2</td>\n",
       "      <td>7574516</td>\n",
       "      <td>40</td>\n",
       "      <td>10</td>\n",
       "      <td>single</td>\n",
       "      <td>rented</td>\n",
       "      <td>no</td>\n",
       "      <td>Software_Developer</td>\n",
       "      <td>Parbhani</td>\n",
       "      <td>Maharashtra</td>\n",
       "      <td>9</td>\n",
       "      <td>13</td>\n",
       "      <td>0</td>\n",
       "    </tr>\n",
       "    <tr>\n",
       "      <th>2</th>\n",
       "      <td>3</td>\n",
       "      <td>3991815</td>\n",
       "      <td>66</td>\n",
       "      <td>4</td>\n",
       "      <td>married</td>\n",
       "      <td>rented</td>\n",
       "      <td>no</td>\n",
       "      <td>Technical_writer</td>\n",
       "      <td>Alappuzha</td>\n",
       "      <td>Kerala</td>\n",
       "      <td>4</td>\n",
       "      <td>10</td>\n",
       "      <td>0</td>\n",
       "    </tr>\n",
       "    <tr>\n",
       "      <th>3</th>\n",
       "      <td>4</td>\n",
       "      <td>6256451</td>\n",
       "      <td>41</td>\n",
       "      <td>2</td>\n",
       "      <td>single</td>\n",
       "      <td>rented</td>\n",
       "      <td>yes</td>\n",
       "      <td>Software_Developer</td>\n",
       "      <td>Bhubaneswar</td>\n",
       "      <td>Odisha</td>\n",
       "      <td>2</td>\n",
       "      <td>12</td>\n",
       "      <td>1</td>\n",
       "    </tr>\n",
       "    <tr>\n",
       "      <th>4</th>\n",
       "      <td>5</td>\n",
       "      <td>5768871</td>\n",
       "      <td>47</td>\n",
       "      <td>11</td>\n",
       "      <td>single</td>\n",
       "      <td>rented</td>\n",
       "      <td>no</td>\n",
       "      <td>Civil_servant</td>\n",
       "      <td>Tiruchirappalli[10]</td>\n",
       "      <td>Tamil_Nadu</td>\n",
       "      <td>3</td>\n",
       "      <td>14</td>\n",
       "      <td>1</td>\n",
       "    </tr>\n",
       "  </tbody>\n",
       "</table>\n",
       "</div>"
      ],
      "text/plain": [
       "   Id   Income  Age  Experience Married/Single House_Ownership Car_Ownership  \\\n",
       "0   1  1303834   23           3         single          rented            no   \n",
       "1   2  7574516   40          10         single          rented            no   \n",
       "2   3  3991815   66           4        married          rented            no   \n",
       "3   4  6256451   41           2         single          rented           yes   \n",
       "4   5  5768871   47          11         single          rented            no   \n",
       "\n",
       "            Profession                 CITY           STATE  CURRENT_JOB_YRS  \\\n",
       "0  Mechanical_engineer                 Rewa  Madhya_Pradesh                3   \n",
       "1   Software_Developer             Parbhani     Maharashtra                9   \n",
       "2     Technical_writer            Alappuzha          Kerala                4   \n",
       "3   Software_Developer          Bhubaneswar          Odisha                2   \n",
       "4        Civil_servant  Tiruchirappalli[10]      Tamil_Nadu                3   \n",
       "\n",
       "   CURRENT_HOUSE_YRS  Risk_Flag  \n",
       "0                 13          0  \n",
       "1                 13          0  \n",
       "2                 10          0  \n",
       "3                 12          1  \n",
       "4                 14          1  "
      ]
     },
     "execution_count": 2,
     "metadata": {},
     "output_type": "execute_result"
    }
   ],
   "source": [
    "df = pd.read_csv('loan_dataset.csv')\n",
    "df.head()"
   ]
  },
  {
   "cell_type": "markdown",
   "id": "f332bda2",
   "metadata": {},
   "source": [
    "## Task 2: Identifying Null Values in Loan Dataset\n",
    "In this task, we focus on identifying and counting null values within the loan dataset. The 'sumofnull' variable showcases the quantity of null values in each column. This process is crucial as it helps us understand the extent of missing data in the dataset. Addressing and managing these null values is essential for maintaining the quality and accuracy of our predictive models, ensuring more robust and reliable lending decision-making."
   ]
  },
  {
   "cell_type": "code",
   "execution_count": 3,
   "id": "9ce3112c",
   "metadata": {
    "ExecuteTime": {
     "end_time": "2024-02-14T11:50:30.600472Z",
     "start_time": "2024-02-14T11:50:30.567148Z"
    }
   },
   "outputs": [
    {
     "data": {
      "text/plain": [
       "Id                   0\n",
       "Income               0\n",
       "Age                  0\n",
       "Experience           0\n",
       "Married/Single       0\n",
       "House_Ownership      0\n",
       "Car_Ownership        0\n",
       "Profession           0\n",
       "CITY                 0\n",
       "STATE                0\n",
       "CURRENT_JOB_YRS      0\n",
       "CURRENT_HOUSE_YRS    0\n",
       "Risk_Flag            0\n",
       "dtype: int64"
      ]
     },
     "execution_count": 3,
     "metadata": {},
     "output_type": "execute_result"
    }
   ],
   "source": [
    "sumofisnull = df.isnull().sum()\n",
    "\n",
    "sumofisnull"
   ]
  },
  {
   "cell_type": "markdown",
   "id": "de52dc19",
   "metadata": {},
   "source": [
    "## Task 3: Analyzing Data Types in Loan Dataset\n",
    "This task involves determining the data types present in the loan dataset. The 'dtype' output provides insights into the types of data each column contains. Understanding the data types is crucial for preprocessing and preparing the data for machine learning modeling. This analysis aids in ensuring that the data is appropriately formatted and compatible with the machine learning algorithms, a key step in facilitating accurate and effective loan prediction models."
   ]
  },
  {
   "cell_type": "code",
   "execution_count": 4,
   "id": "0fe93a3c",
   "metadata": {
    "ExecuteTime": {
     "end_time": "2024-02-14T11:51:41.363792Z",
     "start_time": "2024-02-14T11:51:41.358345Z"
    }
   },
   "outputs": [
    {
     "data": {
      "text/plain": [
       "Id                    int64\n",
       "Income                int64\n",
       "Age                   int64\n",
       "Experience            int64\n",
       "Married/Single       object\n",
       "House_Ownership      object\n",
       "Car_Ownership        object\n",
       "Profession           object\n",
       "CITY                 object\n",
       "STATE                object\n",
       "CURRENT_JOB_YRS       int64\n",
       "CURRENT_HOUSE_YRS     int64\n",
       "Risk_Flag             int64\n",
       "dtype: object"
      ]
     },
     "execution_count": 4,
     "metadata": {},
     "output_type": "execute_result"
    }
   ],
   "source": [
    "dtype = df.dtypes\n",
    "dtype"
   ]
  },
  {
   "cell_type": "markdown",
   "id": "e6dd17e6",
   "metadata": {},
   "source": [
    "## Task 4: Statistical Summary of Loan Dataset\n",
    "In this task, the 'describe' function generates a statistical summary of the loan dataset. This summary includes statistical measures such as mean, standard deviation, minimum, maximum, and quartile values for numerical columns. Understanding these statistical measures is crucial as it provides a comprehensive overview of the dataset's numerical features. This summary aids in identifying patterns, potential outliers, and gaining initial insights into the data, essential for subsequent data processing and model building for loan prediction."
   ]
  },
  {
   "cell_type": "code",
   "execution_count": 5,
   "id": "a69ef11c",
   "metadata": {
    "ExecuteTime": {
     "end_time": "2024-02-14T11:53:46.915393Z",
     "start_time": "2024-02-14T11:53:46.860210Z"
    }
   },
   "outputs": [
    {
     "data": {
      "text/html": [
       "<div>\n",
       "<style scoped>\n",
       "    .dataframe tbody tr th:only-of-type {\n",
       "        vertical-align: middle;\n",
       "    }\n",
       "\n",
       "    .dataframe tbody tr th {\n",
       "        vertical-align: top;\n",
       "    }\n",
       "\n",
       "    .dataframe thead th {\n",
       "        text-align: right;\n",
       "    }\n",
       "</style>\n",
       "<table border=\"1\" class=\"dataframe\">\n",
       "  <thead>\n",
       "    <tr style=\"text-align: right;\">\n",
       "      <th></th>\n",
       "      <th>Id</th>\n",
       "      <th>Income</th>\n",
       "      <th>Age</th>\n",
       "      <th>Experience</th>\n",
       "      <th>CURRENT_JOB_YRS</th>\n",
       "      <th>CURRENT_HOUSE_YRS</th>\n",
       "      <th>Risk_Flag</th>\n",
       "    </tr>\n",
       "  </thead>\n",
       "  <tbody>\n",
       "    <tr>\n",
       "      <th>count</th>\n",
       "      <td>100000.000000</td>\n",
       "      <td>1.000000e+05</td>\n",
       "      <td>100000.000000</td>\n",
       "      <td>100000.000000</td>\n",
       "      <td>100000.000000</td>\n",
       "      <td>100000.000000</td>\n",
       "      <td>100000.000000</td>\n",
       "    </tr>\n",
       "    <tr>\n",
       "      <th>mean</th>\n",
       "      <td>50000.500000</td>\n",
       "      <td>5.001617e+06</td>\n",
       "      <td>49.995400</td>\n",
       "      <td>10.110750</td>\n",
       "      <td>6.342990</td>\n",
       "      <td>11.996020</td>\n",
       "      <td>0.129970</td>\n",
       "    </tr>\n",
       "    <tr>\n",
       "      <th>std</th>\n",
       "      <td>28867.657797</td>\n",
       "      <td>2.876394e+06</td>\n",
       "      <td>17.056051</td>\n",
       "      <td>5.996007</td>\n",
       "      <td>3.644942</td>\n",
       "      <td>1.396826</td>\n",
       "      <td>0.336272</td>\n",
       "    </tr>\n",
       "    <tr>\n",
       "      <th>min</th>\n",
       "      <td>1.000000</td>\n",
       "      <td>1.031000e+04</td>\n",
       "      <td>21.000000</td>\n",
       "      <td>0.000000</td>\n",
       "      <td>0.000000</td>\n",
       "      <td>10.000000</td>\n",
       "      <td>0.000000</td>\n",
       "    </tr>\n",
       "    <tr>\n",
       "      <th>25%</th>\n",
       "      <td>25000.750000</td>\n",
       "      <td>2.507092e+06</td>\n",
       "      <td>35.000000</td>\n",
       "      <td>5.000000</td>\n",
       "      <td>4.000000</td>\n",
       "      <td>11.000000</td>\n",
       "      <td>0.000000</td>\n",
       "    </tr>\n",
       "    <tr>\n",
       "      <th>50%</th>\n",
       "      <td>50000.500000</td>\n",
       "      <td>5.004938e+06</td>\n",
       "      <td>50.000000</td>\n",
       "      <td>10.000000</td>\n",
       "      <td>6.000000</td>\n",
       "      <td>12.000000</td>\n",
       "      <td>0.000000</td>\n",
       "    </tr>\n",
       "    <tr>\n",
       "      <th>75%</th>\n",
       "      <td>75000.250000</td>\n",
       "      <td>7.477502e+06</td>\n",
       "      <td>65.000000</td>\n",
       "      <td>15.000000</td>\n",
       "      <td>9.000000</td>\n",
       "      <td>13.000000</td>\n",
       "      <td>0.000000</td>\n",
       "    </tr>\n",
       "    <tr>\n",
       "      <th>max</th>\n",
       "      <td>100000.000000</td>\n",
       "      <td>9.999180e+06</td>\n",
       "      <td>79.000000</td>\n",
       "      <td>20.000000</td>\n",
       "      <td>14.000000</td>\n",
       "      <td>14.000000</td>\n",
       "      <td>1.000000</td>\n",
       "    </tr>\n",
       "  </tbody>\n",
       "</table>\n",
       "</div>"
      ],
      "text/plain": [
       "                  Id        Income            Age     Experience  \\\n",
       "count  100000.000000  1.000000e+05  100000.000000  100000.000000   \n",
       "mean    50000.500000  5.001617e+06      49.995400      10.110750   \n",
       "std     28867.657797  2.876394e+06      17.056051       5.996007   \n",
       "min         1.000000  1.031000e+04      21.000000       0.000000   \n",
       "25%     25000.750000  2.507092e+06      35.000000       5.000000   \n",
       "50%     50000.500000  5.004938e+06      50.000000      10.000000   \n",
       "75%     75000.250000  7.477502e+06      65.000000      15.000000   \n",
       "max    100000.000000  9.999180e+06      79.000000      20.000000   \n",
       "\n",
       "       CURRENT_JOB_YRS  CURRENT_HOUSE_YRS      Risk_Flag  \n",
       "count    100000.000000      100000.000000  100000.000000  \n",
       "mean          6.342990          11.996020       0.129970  \n",
       "std           3.644942           1.396826       0.336272  \n",
       "min           0.000000          10.000000       0.000000  \n",
       "25%           4.000000          11.000000       0.000000  \n",
       "50%           6.000000          12.000000       0.000000  \n",
       "75%           9.000000          13.000000       0.000000  \n",
       "max          14.000000          14.000000       1.000000  "
      ]
     },
     "execution_count": 5,
     "metadata": {},
     "output_type": "execute_result"
    }
   ],
   "source": [
    "describe = df.describe()\n",
    "describe"
   ]
  },
  {
   "cell_type": "markdown",
   "id": "4419393c",
   "metadata": {},
   "source": [
    "## Task 5: Analyzing Target Variable Distribution\n",
    "In this task, 'target_counts' provides the count of values in the 'Risk_Flag' column, representing the distribution of the target variable. Understanding the distribution of the target variable is essential in a loan prediction context. This analysis helps us comprehend the balance or imbalance between the classes in the target variable, which is crucial for creating and evaluating predictive models. It provides a foundational understanding of the dataset's composition, vital for accurate and meaningful loan risk prediction models."
   ]
  },
  {
   "cell_type": "code",
   "execution_count": 6,
   "id": "d7a032ad",
   "metadata": {
    "ExecuteTime": {
     "end_time": "2024-02-14T12:01:32.046550Z",
     "start_time": "2024-02-14T12:01:32.034451Z"
    }
   },
   "outputs": [
    {
     "data": {
      "text/plain": [
       "Risk_Flag\n",
       "0    87003\n",
       "1    12997\n",
       "Name: count, dtype: int64"
      ]
     },
     "execution_count": 6,
     "metadata": {},
     "output_type": "execute_result"
    }
   ],
   "source": [
    "target_count = df['Risk_Flag'].value_counts()\n",
    "target_count"
   ]
  },
  {
   "cell_type": "markdown",
   "id": "b0598b44",
   "metadata": {},
   "source": [
    "# Module 2 "
   ]
  },
  {
   "cell_type": "markdown",
   "id": "b81e6bd1",
   "metadata": {},
   "source": [
    "## Task 1: Visualizing Correlation Among Numeric Features\n",
    "In this task, we create a heatmap to visualize the correlation among selected numeric features. By plotting a heatmap of the correlation matrix, we gain insights into how these features are related to each other. Understanding these correlations is crucial in a loan prediction scenario, as it helps identify multicollinearity and relationships between features. This visualization aids in determining feature importance and assists in making informed decisions during feature selection for predictive modeling."
   ]
  },
  {
   "cell_type": "code",
   "execution_count": 7,
   "id": "574228f9",
   "metadata": {
    "ExecuteTime": {
     "end_time": "2024-02-14T12:24:21.928489Z",
     "start_time": "2024-02-14T12:24:21.924748Z"
    }
   },
   "outputs": [],
   "source": [
    "%matplotlib inline\n",
    "import seaborn as sns\n",
    "import matplotlib.pyplot as plt"
   ]
  },
  {
   "cell_type": "code",
   "execution_count": 8,
   "id": "3cfeaa1c",
   "metadata": {
    "ExecuteTime": {
     "end_time": "2024-02-14T12:24:23.488799Z",
     "start_time": "2024-02-14T12:24:23.466152Z"
    }
   },
   "outputs": [
    {
     "data": {
      "application/javascript": [
       "\n",
       "        if (window._pyforest_update_imports_cell) { window._pyforest_update_imports_cell('import numpy as np'); }\n",
       "    "
      ],
      "text/plain": [
       "<IPython.core.display.Javascript object>"
      ]
     },
     "metadata": {},
     "output_type": "display_data"
    },
    {
     "data": {
      "application/javascript": [
       "\n",
       "        if (window._pyforest_update_imports_cell) { window._pyforest_update_imports_cell('import numpy as np'); }\n",
       "    "
      ],
      "text/plain": [
       "<IPython.core.display.Javascript object>"
      ]
     },
     "metadata": {},
     "output_type": "display_data"
    }
   ],
   "source": [
    "numeric_features = ['Income', 'Age', 'Experience', 'CURRENT_JOB_YRS', 'CURRENT_HOUSE_YRS', 'Risk_Flag']\n",
    "\n",
    "\n",
    "corr_data = df[numeric_features].corr()\n",
    "\n",
    "mask = np.triu(np.ones_like(corr_data, dtype=bool),k=1)"
   ]
  },
  {
   "cell_type": "code",
   "execution_count": 9,
   "id": "cdc39f4f",
   "metadata": {
    "ExecuteTime": {
     "end_time": "2024-02-14T12:24:25.930528Z",
     "start_time": "2024-02-14T12:24:25.715834Z"
    }
   },
   "outputs": [
    {
     "data": {
      "image/png": "[encoded data removed]",
      "text/plain": [
       "<Figure size 1000x800 with 2 Axes>"
      ]
     },
     "metadata": {},
     "output_type": "display_data"
    }
   ],
   "source": [
    "plt.figure(figsize=(10, 8))\n",
    "sns.heatmap(corr_data, annot=True, cmap='tab10', mask= mask, fmt='.2f', linewidths=.5)\n",
    "plt.title('Correlation Heatmap of Numeric Features')\n",
    "plt.show()"
   ]
  },
  {
   "cell_type": "markdown",
   "id": "68c70ff9",
   "metadata": {},
   "source": [
    "## Task 2: Visualizing Target Variable Distribution\n",
    "This task involves creating a count plot to visualize the distribution of the target variable ('Risk_Flag'). The 'target_ax' count plot showcases the frequency of each class within the 'Risk_Flag' column. Visualizing the distribution of the target variable is crucial in understanding the balance or imbalance between the classes, which is fundamental for a loan prediction context. This visualization provides a clear understanding of the distribution of risk flags, assisting in better comprehension and preparation for predictive modeling."
   ]
  },
  {
   "cell_type": "code",
   "execution_count": 10,
   "id": "1c5df1d6",
   "metadata": {
    "ExecuteTime": {
     "end_time": "2024-02-14T12:36:55.228562Z",
     "start_time": "2024-02-14T12:36:55.008234Z"
    }
   },
   "outputs": [
    {
     "data": {
      "image/png": "[encoded data removed]",
      "text/plain": [
       "<Figure size 640x480 with 1 Axes>"
      ]
     },
     "metadata": {},
     "output_type": "display_data"
    }
   ],
   "source": [
    "target_ax = sns.countplot(data=df, x='Risk_Flag')\n",
    "\n",
    "target_ax.set_title('Distribution of Risk Flags')\n",
    "\n",
    "for bar in target_ax.patches:\n",
    "    target_ax.text(bar.get_x() + bar.get_width() / 2, bar.get_height(), \n",
    "                    f'{int(bar.get_height())}', \n",
    "                    ha='center', va='bottom')\n",
    "\n",
    "plt.show()"
   ]
  },
  {
   "cell_type": "markdown",
   "id": "66ca27c0",
   "metadata": {},
   "source": [
    "## Task 3: Visualizing Marital Status Distribution\n",
    "In this task, a count plot is created to visualize the distribution of marital status within the dataset using the 'Married/Single' column. The 'maritial_ax' count plot displays the frequency of each category within the 'Married/Single' column. Understanding the distribution of marital status provides insights into the demographic composition of the dataset, aiding in understanding the diversity and proportions of different categories within this feature. This visualization contributes to a comprehensive understanding of the dataset, essential for subsequent analysis and modelin"
   ]
  },
  {
   "cell_type": "code",
   "execution_count": 11,
   "id": "3279d168",
   "metadata": {
    "ExecuteTime": {
     "end_time": "2024-02-14T12:37:42.861353Z",
     "start_time": "2024-02-14T12:37:42.580689Z"
    }
   },
   "outputs": [
    {
     "data": {
      "image/png": "[encoded data removed]",
      "text/plain": [
       "<Figure size 640x480 with 1 Axes>"
      ]
     },
     "metadata": {},
     "output_type": "display_data"
    }
   ],
   "source": [
    "marital_ax = sns.countplot(data=df, x='Married/Single')\n",
    "\n",
    "marital_ax.set_title('Distribution of married/single')\n",
    "\n",
    "for bar in marital_ax.patches:\n",
    "    marital_ax.text(bar.get_x() + bar.get_width() / 2, bar.get_height(), \n",
    "                    f'{int(bar.get_height())}', \n",
    "                    ha='center', va='bottom')\n",
    "\n",
    "plt.show()"
   ]
  },
  {
   "cell_type": "markdown",
   "id": "65ed5684",
   "metadata": {},
   "source": [
    "# Module 3\n",
    "\n",
    "## Task 1: Preparing Modified Dataset\n",
    "\n",
    "In this task, a modified dataset is created by dropping specific columns ('CITY', 'STATE', 'Id') from the original dataset. The modified dataset 'data' serves as a refined version with certain columns removed. This data preparation step streamlines the dataset for further analysis, removing unnecessary or redundant columns. It helps in focusing on the relevant features for modeling and analysis, facilitating a more efficient and effective loan prediction model."
   ]
  },
  {
   "cell_type": "code",
   "execution_count": 12,
   "id": "3b212695",
   "metadata": {
    "ExecuteTime": {
     "end_time": "2024-02-14T12:40:23.988250Z",
     "start_time": "2024-02-14T12:40:23.958236Z"
    }
   },
   "outputs": [],
   "source": [
    "data = df.copy()\n",
    "\n",
    "data.drop(['CITY', 'STATE', 'Id'], axis=1, inplace=True)"
   ]
  },
  {
   "cell_type": "markdown",
   "id": "dafca4e6",
   "metadata": {},
   "source": [
    "## Task 2: Encoding Categorical Features\n",
    "\n",
    "In this task, categorical features ('Married/Single', 'House_Ownership', 'Car_Ownership', 'Profession') are encoded using a LabelEncoder from the sklearn library. This encoding process converts categorical data into numerical format, making it suitable for machine learning algorithms. Converting categorical features to numerical representations is essential for creating robust predictive models, ensuring that the model can interpret and process these features effectively for loan prediction."
   ]
  },
  {
   "cell_type": "code",
   "execution_count": 13,
   "id": "b73d21aa",
   "metadata": {
    "ExecuteTime": {
     "end_time": "2024-02-14T12:44:28.151294Z",
     "start_time": "2024-02-14T12:44:28.116673Z"
    }
   },
   "outputs": [],
   "source": [
    "from sklearn.preprocessing import LabelEncoder\n",
    "\n",
    "# Initialize LabelEncoder\n",
    "encode = LabelEncoder()\n",
    "\n",
    "# List of categorical features to be encoded\n",
    "categorical_features = ['Married/Single', 'House_Ownership', 'Car_Ownership', 'Profession']\n",
    "\n",
    "# Encode categorical features\n",
    "for feature in categorical_features:\n",
    "    data[feature] = encode.fit_transform(data[feature])"
   ]
  },
  {
   "cell_type": "code",
   "execution_count": 14,
   "id": "1de1128b",
   "metadata": {
    "ExecuteTime": {
     "end_time": "2024-02-14T12:44:35.276059Z",
     "start_time": "2024-02-14T12:44:35.254857Z"
    }
   },
   "outputs": [
    {
     "data": {
      "text/html": [
       "<div>\n",
       "<style scoped>\n",
       "    .dataframe tbody tr th:only-of-type {\n",
       "        vertical-align: middle;\n",
       "    }\n",
       "\n",
       "    .dataframe tbody tr th {\n",
       "        vertical-align: top;\n",
       "    }\n",
       "\n",
       "    .dataframe thead th {\n",
       "        text-align: right;\n",
       "    }\n",
       "</style>\n",
       "<table border=\"1\" class=\"dataframe\">\n",
       "  <thead>\n",
       "    <tr style=\"text-align: right;\">\n",
       "      <th></th>\n",
       "      <th>Income</th>\n",
       "      <th>Age</th>\n",
       "      <th>Experience</th>\n",
       "      <th>Married/Single</th>\n",
       "      <th>House_Ownership</th>\n",
       "      <th>Car_Ownership</th>\n",
       "      <th>Profession</th>\n",
       "      <th>CURRENT_JOB_YRS</th>\n",
       "      <th>CURRENT_HOUSE_YRS</th>\n",
       "      <th>Risk_Flag</th>\n",
       "    </tr>\n",
       "  </thead>\n",
       "  <tbody>\n",
       "    <tr>\n",
       "      <th>0</th>\n",
       "      <td>1303834</td>\n",
       "      <td>23</td>\n",
       "      <td>3</td>\n",
       "      <td>1</td>\n",
       "      <td>2</td>\n",
       "      <td>0</td>\n",
       "      <td>33</td>\n",
       "      <td>3</td>\n",
       "      <td>13</td>\n",
       "      <td>0</td>\n",
       "    </tr>\n",
       "    <tr>\n",
       "      <th>1</th>\n",
       "      <td>7574516</td>\n",
       "      <td>40</td>\n",
       "      <td>10</td>\n",
       "      <td>1</td>\n",
       "      <td>2</td>\n",
       "      <td>0</td>\n",
       "      <td>43</td>\n",
       "      <td>9</td>\n",
       "      <td>13</td>\n",
       "      <td>0</td>\n",
       "    </tr>\n",
       "    <tr>\n",
       "      <th>2</th>\n",
       "      <td>3991815</td>\n",
       "      <td>66</td>\n",
       "      <td>4</td>\n",
       "      <td>0</td>\n",
       "      <td>2</td>\n",
       "      <td>0</td>\n",
       "      <td>47</td>\n",
       "      <td>4</td>\n",
       "      <td>10</td>\n",
       "      <td>0</td>\n",
       "    </tr>\n",
       "    <tr>\n",
       "      <th>3</th>\n",
       "      <td>6256451</td>\n",
       "      <td>41</td>\n",
       "      <td>2</td>\n",
       "      <td>1</td>\n",
       "      <td>2</td>\n",
       "      <td>1</td>\n",
       "      <td>43</td>\n",
       "      <td>2</td>\n",
       "      <td>12</td>\n",
       "      <td>1</td>\n",
       "    </tr>\n",
       "    <tr>\n",
       "      <th>4</th>\n",
       "      <td>5768871</td>\n",
       "      <td>47</td>\n",
       "      <td>11</td>\n",
       "      <td>1</td>\n",
       "      <td>2</td>\n",
       "      <td>0</td>\n",
       "      <td>11</td>\n",
       "      <td>3</td>\n",
       "      <td>14</td>\n",
       "      <td>1</td>\n",
       "    </tr>\n",
       "    <tr>\n",
       "      <th>...</th>\n",
       "      <td>...</td>\n",
       "      <td>...</td>\n",
       "      <td>...</td>\n",
       "      <td>...</td>\n",
       "      <td>...</td>\n",
       "      <td>...</td>\n",
       "      <td>...</td>\n",
       "      <td>...</td>\n",
       "      <td>...</td>\n",
       "      <td>...</td>\n",
       "    </tr>\n",
       "    <tr>\n",
       "      <th>99995</th>\n",
       "      <td>7283454</td>\n",
       "      <td>74</td>\n",
       "      <td>5</td>\n",
       "      <td>0</td>\n",
       "      <td>2</td>\n",
       "      <td>0</td>\n",
       "      <td>47</td>\n",
       "      <td>5</td>\n",
       "      <td>11</td>\n",
       "      <td>0</td>\n",
       "    </tr>\n",
       "    <tr>\n",
       "      <th>99996</th>\n",
       "      <td>170128</td>\n",
       "      <td>29</td>\n",
       "      <td>17</td>\n",
       "      <td>1</td>\n",
       "      <td>2</td>\n",
       "      <td>0</td>\n",
       "      <td>1</td>\n",
       "      <td>12</td>\n",
       "      <td>12</td>\n",
       "      <td>0</td>\n",
       "    </tr>\n",
       "    <tr>\n",
       "      <th>99997</th>\n",
       "      <td>1094592</td>\n",
       "      <td>79</td>\n",
       "      <td>0</td>\n",
       "      <td>1</td>\n",
       "      <td>2</td>\n",
       "      <td>1</td>\n",
       "      <td>24</td>\n",
       "      <td>0</td>\n",
       "      <td>13</td>\n",
       "      <td>0</td>\n",
       "    </tr>\n",
       "    <tr>\n",
       "      <th>99998</th>\n",
       "      <td>6384060</td>\n",
       "      <td>26</td>\n",
       "      <td>14</td>\n",
       "      <td>1</td>\n",
       "      <td>1</td>\n",
       "      <td>0</td>\n",
       "      <td>48</td>\n",
       "      <td>5</td>\n",
       "      <td>11</td>\n",
       "      <td>0</td>\n",
       "    </tr>\n",
       "    <tr>\n",
       "      <th>99999</th>\n",
       "      <td>207067</td>\n",
       "      <td>61</td>\n",
       "      <td>18</td>\n",
       "      <td>1</td>\n",
       "      <td>2</td>\n",
       "      <td>0</td>\n",
       "      <td>5</td>\n",
       "      <td>12</td>\n",
       "      <td>10</td>\n",
       "      <td>0</td>\n",
       "    </tr>\n",
       "  </tbody>\n",
       "</table>\n",
       "<p>100000 rows × 10 columns</p>\n",
       "</div>"
      ],
      "text/plain": [
       "        Income  Age  Experience  Married/Single  House_Ownership  \\\n",
       "0      1303834   23           3               1                2   \n",
       "1      7574516   40          10               1                2   \n",
       "2      3991815   66           4               0                2   \n",
       "3      6256451   41           2               1                2   \n",
       "4      5768871   47          11               1                2   \n",
       "...        ...  ...         ...             ...              ...   \n",
       "99995  7283454   74           5               0                2   \n",
       "99996   170128   29          17               1                2   \n",
       "99997  1094592   79           0               1                2   \n",
       "99998  6384060   26          14               1                1   \n",
       "99999   207067   61          18               1                2   \n",
       "\n",
       "       Car_Ownership  Profession  CURRENT_JOB_YRS  CURRENT_HOUSE_YRS  \\\n",
       "0                  0          33                3                 13   \n",
       "1                  0          43                9                 13   \n",
       "2                  0          47                4                 10   \n",
       "3                  1          43                2                 12   \n",
       "4                  0          11                3                 14   \n",
       "...              ...         ...              ...                ...   \n",
       "99995              0          47                5                 11   \n",
       "99996              0           1               12                 12   \n",
       "99997              1          24                0                 13   \n",
       "99998              0          48                5                 11   \n",
       "99999              0           5               12                 10   \n",
       "\n",
       "       Risk_Flag  \n",
       "0              0  \n",
       "1              0  \n",
       "2              0  \n",
       "3              1  \n",
       "4              1  \n",
       "...          ...  \n",
       "99995          0  \n",
       "99996          0  \n",
       "99997          0  \n",
       "99998          0  \n",
       "99999          0  \n",
       "\n",
       "[100000 rows x 10 columns]"
      ]
     },
     "execution_count": 14,
     "metadata": {},
     "output_type": "execute_result"
    }
   ],
   "source": [
    "data"
   ]
  },
  {
   "cell_type": "markdown",
   "id": "8c528f2d",
   "metadata": {},
   "source": [
    "## Task 3: Encoding Categorical Features\n",
    "\n",
    "In this task, the MinMaxScaler from the sklearn library is utilized to normalize the dataset's numerical features. The MinMaxScaler scales numerical features to a specified range (commonly between 0 and 1), ensuring consistency in the scale of features. Normalizing the dataset is crucial for preventing any particular feature from dominating the model due to its larger scale, enabling fairer comparisons between different features and supporting the machine learning process for loan prediction."
   ]
  },
  {
   "cell_type": "code",
   "execution_count": 15,
   "id": "d7a21960",
   "metadata": {
    "ExecuteTime": {
     "end_time": "2024-02-14T12:46:19.124294Z",
     "start_time": "2024-02-14T12:46:19.083186Z"
    }
   },
   "outputs": [],
   "source": [
    "from sklearn.preprocessing import MinMaxScaler\n",
    "\n",
    "# Initialize MinMaxScaler\n",
    "scaler = MinMaxScaler()\n",
    "\n",
    "# Applying Min-Max scaling to each column\n",
    "data_scaled = scaler.fit_transform(data)\n",
    "\n",
    "# Convert the scaled data back to a DataFrame\n",
    "data_scaled = pd.DataFrame(data_scaled, columns=data.columns)"
   ]
  },
  {
   "cell_type": "code",
   "execution_count": 16,
   "id": "9a81ff3c",
   "metadata": {
    "ExecuteTime": {
     "end_time": "2024-02-14T12:46:24.412436Z",
     "start_time": "2024-02-14T12:46:24.383280Z"
    }
   },
   "outputs": [
    {
     "data": {
      "text/html": [
       "<div>\n",
       "<style scoped>\n",
       "    .dataframe tbody tr th:only-of-type {\n",
       "        vertical-align: middle;\n",
       "    }\n",
       "\n",
       "    .dataframe tbody tr th {\n",
       "        vertical-align: top;\n",
       "    }\n",
       "\n",
       "    .dataframe thead th {\n",
       "        text-align: right;\n",
       "    }\n",
       "</style>\n",
       "<table border=\"1\" class=\"dataframe\">\n",
       "  <thead>\n",
       "    <tr style=\"text-align: right;\">\n",
       "      <th></th>\n",
       "      <th>Income</th>\n",
       "      <th>Age</th>\n",
       "      <th>Experience</th>\n",
       "      <th>Married/Single</th>\n",
       "      <th>House_Ownership</th>\n",
       "      <th>Car_Ownership</th>\n",
       "      <th>Profession</th>\n",
       "      <th>CURRENT_JOB_YRS</th>\n",
       "      <th>CURRENT_HOUSE_YRS</th>\n",
       "      <th>Risk_Flag</th>\n",
       "    </tr>\n",
       "  </thead>\n",
       "  <tbody>\n",
       "    <tr>\n",
       "      <th>0</th>\n",
       "      <td>0.129497</td>\n",
       "      <td>0.034483</td>\n",
       "      <td>0.15</td>\n",
       "      <td>1.0</td>\n",
       "      <td>1.0</td>\n",
       "      <td>0.0</td>\n",
       "      <td>0.66</td>\n",
       "      <td>0.214286</td>\n",
       "      <td>0.75</td>\n",
       "      <td>0.0</td>\n",
       "    </tr>\n",
       "    <tr>\n",
       "      <th>1</th>\n",
       "      <td>0.757263</td>\n",
       "      <td>0.327586</td>\n",
       "      <td>0.50</td>\n",
       "      <td>1.0</td>\n",
       "      <td>1.0</td>\n",
       "      <td>0.0</td>\n",
       "      <td>0.86</td>\n",
       "      <td>0.642857</td>\n",
       "      <td>0.75</td>\n",
       "      <td>0.0</td>\n",
       "    </tr>\n",
       "    <tr>\n",
       "      <th>2</th>\n",
       "      <td>0.398594</td>\n",
       "      <td>0.775862</td>\n",
       "      <td>0.20</td>\n",
       "      <td>0.0</td>\n",
       "      <td>1.0</td>\n",
       "      <td>0.0</td>\n",
       "      <td>0.94</td>\n",
       "      <td>0.285714</td>\n",
       "      <td>0.00</td>\n",
       "      <td>0.0</td>\n",
       "    </tr>\n",
       "    <tr>\n",
       "      <th>3</th>\n",
       "      <td>0.625310</td>\n",
       "      <td>0.344828</td>\n",
       "      <td>0.10</td>\n",
       "      <td>1.0</td>\n",
       "      <td>1.0</td>\n",
       "      <td>1.0</td>\n",
       "      <td>0.86</td>\n",
       "      <td>0.142857</td>\n",
       "      <td>0.50</td>\n",
       "      <td>1.0</td>\n",
       "    </tr>\n",
       "    <tr>\n",
       "      <th>4</th>\n",
       "      <td>0.576498</td>\n",
       "      <td>0.448276</td>\n",
       "      <td>0.55</td>\n",
       "      <td>1.0</td>\n",
       "      <td>1.0</td>\n",
       "      <td>0.0</td>\n",
       "      <td>0.22</td>\n",
       "      <td>0.214286</td>\n",
       "      <td>1.00</td>\n",
       "      <td>1.0</td>\n",
       "    </tr>\n",
       "    <tr>\n",
       "      <th>...</th>\n",
       "      <td>...</td>\n",
       "      <td>...</td>\n",
       "      <td>...</td>\n",
       "      <td>...</td>\n",
       "      <td>...</td>\n",
       "      <td>...</td>\n",
       "      <td>...</td>\n",
       "      <td>...</td>\n",
       "      <td>...</td>\n",
       "      <td>...</td>\n",
       "    </tr>\n",
       "    <tr>\n",
       "      <th>99995</th>\n",
       "      <td>0.728125</td>\n",
       "      <td>0.913793</td>\n",
       "      <td>0.25</td>\n",
       "      <td>0.0</td>\n",
       "      <td>1.0</td>\n",
       "      <td>0.0</td>\n",
       "      <td>0.94</td>\n",
       "      <td>0.357143</td>\n",
       "      <td>0.25</td>\n",
       "      <td>0.0</td>\n",
       "    </tr>\n",
       "    <tr>\n",
       "      <th>99996</th>\n",
       "      <td>0.016000</td>\n",
       "      <td>0.137931</td>\n",
       "      <td>0.85</td>\n",
       "      <td>1.0</td>\n",
       "      <td>1.0</td>\n",
       "      <td>0.0</td>\n",
       "      <td>0.02</td>\n",
       "      <td>0.857143</td>\n",
       "      <td>0.50</td>\n",
       "      <td>0.0</td>\n",
       "    </tr>\n",
       "    <tr>\n",
       "      <th>99997</th>\n",
       "      <td>0.108549</td>\n",
       "      <td>1.000000</td>\n",
       "      <td>0.00</td>\n",
       "      <td>1.0</td>\n",
       "      <td>1.0</td>\n",
       "      <td>1.0</td>\n",
       "      <td>0.48</td>\n",
       "      <td>0.000000</td>\n",
       "      <td>0.75</td>\n",
       "      <td>0.0</td>\n",
       "    </tr>\n",
       "    <tr>\n",
       "      <th>99998</th>\n",
       "      <td>0.638085</td>\n",
       "      <td>0.086207</td>\n",
       "      <td>0.70</td>\n",
       "      <td>1.0</td>\n",
       "      <td>0.5</td>\n",
       "      <td>0.0</td>\n",
       "      <td>0.96</td>\n",
       "      <td>0.357143</td>\n",
       "      <td>0.25</td>\n",
       "      <td>0.0</td>\n",
       "    </tr>\n",
       "    <tr>\n",
       "      <th>99999</th>\n",
       "      <td>0.019698</td>\n",
       "      <td>0.689655</td>\n",
       "      <td>0.90</td>\n",
       "      <td>1.0</td>\n",
       "      <td>1.0</td>\n",
       "      <td>0.0</td>\n",
       "      <td>0.10</td>\n",
       "      <td>0.857143</td>\n",
       "      <td>0.00</td>\n",
       "      <td>0.0</td>\n",
       "    </tr>\n",
       "  </tbody>\n",
       "</table>\n",
       "<p>100000 rows × 10 columns</p>\n",
       "</div>"
      ],
      "text/plain": [
       "         Income       Age  Experience  Married/Single  House_Ownership  \\\n",
       "0      0.129497  0.034483        0.15             1.0              1.0   \n",
       "1      0.757263  0.327586        0.50             1.0              1.0   \n",
       "2      0.398594  0.775862        0.20             0.0              1.0   \n",
       "3      0.625310  0.344828        0.10             1.0              1.0   \n",
       "4      0.576498  0.448276        0.55             1.0              1.0   \n",
       "...         ...       ...         ...             ...              ...   \n",
       "99995  0.728125  0.913793        0.25             0.0              1.0   \n",
       "99996  0.016000  0.137931        0.85             1.0              1.0   \n",
       "99997  0.108549  1.000000        0.00             1.0              1.0   \n",
       "99998  0.638085  0.086207        0.70             1.0              0.5   \n",
       "99999  0.019698  0.689655        0.90             1.0              1.0   \n",
       "\n",
       "       Car_Ownership  Profession  CURRENT_JOB_YRS  CURRENT_HOUSE_YRS  \\\n",
       "0                0.0        0.66         0.214286               0.75   \n",
       "1                0.0        0.86         0.642857               0.75   \n",
       "2                0.0        0.94         0.285714               0.00   \n",
       "3                1.0        0.86         0.142857               0.50   \n",
       "4                0.0        0.22         0.214286               1.00   \n",
       "...              ...         ...              ...                ...   \n",
       "99995            0.0        0.94         0.357143               0.25   \n",
       "99996            0.0        0.02         0.857143               0.50   \n",
       "99997            1.0        0.48         0.000000               0.75   \n",
       "99998            0.0        0.96         0.357143               0.25   \n",
       "99999            0.0        0.10         0.857143               0.00   \n",
       "\n",
       "       Risk_Flag  \n",
       "0            0.0  \n",
       "1            0.0  \n",
       "2            0.0  \n",
       "3            1.0  \n",
       "4            1.0  \n",
       "...          ...  \n",
       "99995        0.0  \n",
       "99996        0.0  \n",
       "99997        0.0  \n",
       "99998        0.0  \n",
       "99999        0.0  \n",
       "\n",
       "[100000 rows x 10 columns]"
      ]
     },
     "execution_count": 16,
     "metadata": {},
     "output_type": "execute_result"
    }
   ],
   "source": [
    "data_scaled"
   ]
  },
  {
   "cell_type": "markdown",
   "id": "c79a6b02",
   "metadata": {},
   "source": [
    "## Task 4: Data Splitting and Resampling for Model Training\n",
    "\n",
    "In this task, the dataset is split into training and validation sets using the train_test_split function from sklearn. Additionally, the SMOTE (Synthetic Minority Over-sampling Technique) is applied to balance the classes by oversampling the minority class ('Risk_Flag' = 1). This ensures a more balanced dataset for model training. Splitting the dataset and applying SMOTE are fundamental steps in preparing the data for training predictive models, enhancing the model's ability to learn from the data and make accurate predictions for loan risk assessment."
   ]
  },
  {
   "cell_type": "code",
   "execution_count": 35,
   "id": "c6b2ac14",
   "metadata": {
    "ExecuteTime": {
     "end_time": "2024-02-14T14:03:28.490612Z",
     "start_time": "2024-02-14T14:03:28.226458Z"
    }
   },
   "outputs": [],
   "source": [
    "from sklearn.model_selection import train_test_split\n",
    "from imblearn.over_sampling import SMOTE\n",
    "\n",
    "# Splitting data into features (X) and target variable (y)\n",
    "X = data.drop('Risk_Flag', axis=1)\n",
    "y = data['Risk_Flag']\n",
    "\n",
    "# Initialize SMOTE\n",
    "smote = SMOTE(random_state=42)\n",
    "\n",
    "# Apply SMOTE to resample the data\n",
    "X_resampled, y_resampled = smote.fit_resample(X, y)\n",
    "\n",
    "# Perform train-test split\n",
    "X_train, X_test, Y_train, Y_test = train_test_split(X_resampled, y_resampled, test_size=0.3, random_state=42)"
   ]
  },
  {
   "cell_type": "code",
   "execution_count": 36,
   "id": "20f12d9a-9824-413a-9e1c-43d246cab91d",
   "metadata": {
    "ExecuteTime": {
     "end_time": "2024-02-14T14:03:44.025153Z",
     "start_time": "2024-02-14T14:03:44.013523Z"
    }
   },
   "outputs": [
    {
     "name": "stdout",
     "output_type": "stream",
     "text": [
      "X_train shape: (121804, 9)\n",
      "Y_train shape: (121804,)\n",
      "X_validation shape: (52202, 9)\n",
      "Y_validation shape: (52202,)\n"
     ]
    }
   ],
   "source": [
    "print(\"X_train shape:\", X_train.shape)\n",
    "print(\"Y_train shape:\", Y_train.shape)\n",
    "print(\"X_validation shape:\", X_test.shape)\n",
    "print(\"Y_validation shape:\", Y_test.shape)"
   ]
  },
  {
   "cell_type": "markdown",
   "id": "8e629853",
   "metadata": {},
   "source": [
    "# Module 4\n",
    "\n",
    "## Task 1: Training Logistic Regression Model and Evaluation\n",
    "\n",
    "In this task, a Logistic Regression model is trained using the training data (X_train, Y_train), and predictions are made on the validation set (X_validation). Subsequently, key classification metrics such as accuracy, precision, recall, and F1-score are calculated to assess the model's performance. These metrics are essential for evaluating the model's predictive power and its ability to correctly classify loan risk (1 or 0). This process aids in understanding the model's accuracy and its effectiveness in making lending decisions based on the provided dataset."
   ]
  },
  {
   "cell_type": "code",
   "execution_count": 37,
   "id": "e7084826",
   "metadata": {
    "ExecuteTime": {
     "end_time": "2024-02-14T14:06:45.984405Z",
     "start_time": "2024-02-14T14:06:45.044007Z"
    }
   },
   "outputs": [
    {
     "name": "stdout",
     "output_type": "stream",
     "text": [
      "Test classification report\n",
      "              precision    recall  f1-score   support\n",
      "\n",
      "           0       0.50      0.72      0.59     26116\n",
      "           1       0.51      0.30      0.38     26086\n",
      "\n",
      "    accuracy                           0.51     52202\n",
      "   macro avg       0.51      0.51      0.48     52202\n",
      "weighted avg       0.51      0.51      0.48     52202\n",
      "\n",
      "Train classification report\n",
      "              precision    recall  f1-score   support\n",
      "\n",
      "           0       0.50      0.72      0.59     60887\n",
      "           1       0.51      0.30      0.38     60917\n",
      "\n",
      "    accuracy                           0.51    121804\n",
      "   macro avg       0.51      0.51      0.48    121804\n",
      "weighted avg       0.51      0.51      0.48    121804\n",
      "\n"
     ]
    }
   ],
   "source": [
    "from sklearn.metrics import classification_report\n",
    "from sklearn.linear_model import LogisticRegression\n",
    "\n",
    "# Initialize Logistic Regression model\n",
    "model = LogisticRegression()\n",
    "\n",
    "# Train the model using X_train and Y_train\n",
    "model.fit(X_train, Y_train)\n",
    "\n",
    "# Predict the target variable using X_test\n",
    "pred_test = model.predict(X_test)\n",
    "pred_train = model.predict(X_train)\n",
    "\n",
    "\n",
    "print('Test classification report')\n",
    "print(classification_report(Y_test, pred_test))\n",
    "\n",
    "print('Train classification report')\n",
    "print(classification_report(Y_train, pred_train))\n"
   ]
  },
  {
   "cell_type": "markdown",
   "id": "9d522acf",
   "metadata": {},
   "source": [
    "## Task 2: Training K-Nearest Neighbors (KNN) Classifier and Evaluation\n",
    "\n",
    "In this task, a K-Nearest Neighbors (KNN) classifier is trained using three neighbors. The model is fitted with the training data (X_train, Y_train), and predictions are made on the validation set (X_validation). Subsequently, accuracy, precision, recall, and F1-score metrics are calculated to evaluate the performance of the KNN model. These metrics help assess the model's predictive accuracy and ability to make lending decisions based on the loan dataset."
   ]
  },
  {
   "cell_type": "code",
   "execution_count": 38,
   "id": "c420fac8",
   "metadata": {
    "ExecuteTime": {
     "end_time": "2024-02-14T14:09:13.179116Z",
     "start_time": "2024-02-14T14:08:56.704821Z"
    }
   },
   "outputs": [
    {
     "name": "stdout",
     "output_type": "stream",
     "text": [
      "KNN Test Classification Report:\n",
      "              precision    recall  f1-score   support\n",
      "\n",
      "           0       0.98      0.93      0.95     26116\n",
      "           1       0.93      0.98      0.95     26086\n",
      "\n",
      "    accuracy                           0.95     52202\n",
      "   macro avg       0.95      0.95      0.95     52202\n",
      "weighted avg       0.95      0.95      0.95     52202\n",
      "\n",
      "KNN Train Classification Report:\n",
      "              precision    recall  f1-score   support\n",
      "\n",
      "           0       0.98      0.93      0.95     60887\n",
      "           1       0.93      0.98      0.95     60917\n",
      "\n",
      "    accuracy                           0.95    121804\n",
      "   macro avg       0.95      0.95      0.95    121804\n",
      "weighted avg       0.95      0.95      0.95    121804\n",
      "\n"
     ]
    }
   ],
   "source": [
    "# Create a KNN model with 3 neighbors\n",
    "knn_model = KNeighborsClassifier(n_neighbors=3)\n",
    "\n",
    "# Train the KNN model using X_train and Y_train data\n",
    "knn_model.fit(X_train, Y_train)\n",
    "\n",
    "# Predict the target variable using X_validation\n",
    "pred_test_knn = knn_model.predict(X_test)\n",
    "pred_train_knn = knn_model.predict(X_train)\n",
    "\n",
    "# Print the classification report\n",
    "print(\"KNN Test Classification Report:\")\n",
    "print(classification_report(Y_test,pred_test_knn))\n",
    "\n",
    "print(\"KNN Train Classification Report:\")\n",
    "print(classification_report(Y_train,pred_train_knn))\n"
   ]
  },
  {
   "cell_type": "markdown",
   "id": "90d5730d",
   "metadata": {},
   "source": [
    "## Task 3: Training Extra Trees Classifier and Evaluation\n",
    "\n",
    "In this task, an Extra Trees Classifier is trained using the training data (X_train, Y_train), and predictions are made on the validation set (X_validation). Subsequently, accuracy, precision, recall, and F1-score metrics are calculated to evaluate the performance of the Extra Trees model. These metrics help assess the model's predictive accuracy and its ability to make lending decisions based on the loan dataset."
   ]
  },
  {
   "cell_type": "code",
   "execution_count": 39,
   "id": "91936d4d",
   "metadata": {
    "ExecuteTime": {
     "end_time": "2024-02-14T14:14:41.579867Z",
     "start_time": "2024-02-14T14:14:24.769698Z"
    }
   },
   "outputs": [
    {
     "name": "stdout",
     "output_type": "stream",
     "text": [
      "Extra Trees Classifier Test Classification Report:\n",
      "              precision    recall  f1-score   support\n",
      "\n",
      "           0       1.00      0.92      0.96     26116\n",
      "           1       0.93      1.00      0.96     26086\n",
      "\n",
      "    accuracy                           0.96     52202\n",
      "   macro avg       0.96      0.96      0.96     52202\n",
      "weighted avg       0.96      0.96      0.96     52202\n",
      "\n",
      "Extra Trees Classifier Train Classification Report:\n",
      "              precision    recall  f1-score   support\n",
      "\n",
      "           0       1.00      0.92      0.96     60887\n",
      "           1       0.93      1.00      0.96     60917\n",
      "\n",
      "    accuracy                           0.96    121804\n",
      "   macro avg       0.96      0.96      0.96    121804\n",
      "weighted avg       0.96      0.96      0.96    121804\n",
      "\n"
     ]
    }
   ],
   "source": [
    "from sklearn.metrics import classification_report\n",
    "from sklearn.ensemble import ExtraTreesClassifier\n",
    "\n",
    "# Create an Extra Trees Classifier model\n",
    "extra_trees_model = ExtraTreesClassifier()\n",
    "\n",
    "# Train the Extra Trees Classifier model using X_train and Y_train data\n",
    "extra_trees_model.fit(X_train, Y_train)\n",
    "\n",
    "# Predict the target variable using X_test\n",
    "pred_test_extra_trees = extra_trees_model.predict(X_test)\n",
    "pred_train_extra_trees = extra_trees_model.predict(X_train)\n",
    "\n",
    "# Print the classification report\n",
    "print(\"Extra Trees Classifier Test Classification Report:\")\n",
    "print(classification_report(Y_test, pred_test_extra_trees))\n",
    "\n",
    "print(\"Extra Trees Classifier Train Classification Report:\")\n",
    "print(classification_report(Y_train, pred_train_extra_trees))"
   ]
  },
  {
   "cell_type": "markdown",
   "id": "db73f1b1",
   "metadata": {},
   "source": [
    "## Task 4: Model Evaluation with Accuracy, Confusion Matrix, and Classification Report\n",
    "\n",
    "In this task, the model evaluation is performed using accuracy, confusion matrix, and a classification report. The accuracy score is calculated using sklearn's accuracy_score function, providing an overall accuracy of the model. Additionally, the confusion matrix and classification report are generated to comprehensively evaluate the model's performance. These evaluation metrics are crucial in assessing the model's predictive power and understanding its capability in making lending decisions based on the loan dataset."
   ]
  },
  {
   "cell_type": "code",
   "execution_count": 43,
   "id": "09bb94fc",
   "metadata": {
    "ExecuteTime": {
     "end_time": "2024-02-14T14:28:03.536873Z",
     "start_time": "2024-02-14T14:28:02.994266Z"
    }
   },
   "outputs": [
    {
     "name": "stdout",
     "output_type": "stream",
     "text": [
      "Accuracy for test: 0.5064940040611471\n",
      "\n",
      "\n",
      "Accuracy for train: 0.5058126169912318\n",
      "\n",
      "\n",
      "\n",
      "Confusion Matrix for test:\n",
      " [[18706  7410]\n",
      " [18352  7734]]\n",
      "\n",
      "\n",
      "Confusion Matrix for train:\n",
      " [[43539 17348]\n",
      " [42846 18071]]\n",
      "\n",
      "\n",
      "\n",
      "Classification Report for Test:\n",
      "               precision    recall  f1-score   support\n",
      "\n",
      "           0       0.50      0.72      0.59     26116\n",
      "           1       0.51      0.30      0.38     26086\n",
      "\n",
      "    accuracy                           0.51     52202\n",
      "   macro avg       0.51      0.51      0.48     52202\n",
      "weighted avg       0.51      0.51      0.48     52202\n",
      "\n",
      "\n",
      "\n",
      "Classification Report for train:\n",
      "               precision    recall  f1-score   support\n",
      "\n",
      "           0       0.50      0.72      0.59     60887\n",
      "           1       0.51      0.30      0.38     60917\n",
      "\n",
      "    accuracy                           0.51    121804\n",
      "   macro avg       0.51      0.51      0.48    121804\n",
      "weighted avg       0.51      0.51      0.48    121804\n",
      "\n"
     ]
    }
   ],
   "source": [
    "from sklearn.metrics import accuracy_score, confusion_matrix, classification_report\n",
    "\n",
    "# Calculate accuracy\n",
    "accuracy_test = accuracy_score(Y_test, pred_test)\n",
    "accuracy_train = accuracy_score(Y_train, pred_train)\n",
    "\n",
    "# Generate confusion matrix\n",
    "cm_test = confusion_matrix(Y_test, pred_test)\n",
    "cm_train = confusion_matrix(Y_train, pred_train)\n",
    "\n",
    "# Create classification report\n",
    "cr_test = classification_report(Y_test, pred_test)\n",
    "cr_train = classification_report(Y_train, pred_train)\n",
    "# Return accuracy, confusion matrix, and classification report\n",
    "print(\"Accuracy for test:\", accuracy_test)\n",
    "print(\"\\n\" * 1)\n",
    "print(\"Accuracy for train:\", accuracy_train)\n",
    "print(\"\\n\" * 2)\n",
    "print(\"Confusion Matrix for test:\\n\", cm_test)\n",
    "print(\"\\n\" * 1)\n",
    "print(\"Confusion Matrix for train:\\n\", cm_train)\n",
    "print(\"\\n\" * 2)\n",
    "print(\"Classification Report for Test:\\n\", cr_test)\n",
    "print(\"\\n\" * 1)\n",
    "print(\"Classification Report for train:\\n\", cr_train)"
   ]
  },
  {
   "cell_type": "markdown",
   "id": "81bb536b",
   "metadata": {},
   "source": [
    "## Task 5: Final Prediction\n",
    "In this task, a sample data entry containing specific individual information related to income, age, experience, marital status, house ownership, car ownership, profession, current job years, and current house years is created as a DataFrame. The trained best-performing model from previous evaluations is used to predict loan risk for this particular set of features. This prediction assists in understanding how the chosen model categorizes the given individual's loan risk as a binary outcome (1 or 0) based on the provided information."
   ]
  },
  {
   "cell_type": "code",
   "execution_count": 44,
   "id": "6061654f",
   "metadata": {
    "ExecuteTime": {
     "end_time": "2024-02-14T14:31:44.934890Z",
     "start_time": "2024-02-14T14:31:44.907881Z"
    }
   },
   "outputs": [
    {
     "name": "stdout",
     "output_type": "stream",
     "text": [
      "Prediction: [0]\n"
     ]
    }
   ],
   "source": [
    "# Sample data\n",
    "sample_data = pd.DataFrame([[0.576498, 0.448276, 0.55, 1.0, 1.0, 0.0, 0.22, 0.214286, 1.00]],\n",
    "                columns=['Income', 'Age', 'Experience', 'Married/Single', 'House_Ownership', 'Car_Ownership', \n",
    "                             'Profession', 'CURRENT_JOB_YRS', 'CURRENT_HOUSE_YRS'])\n",
    "\n",
    "# Use the trained Extra Trees Classifier model to make predictions\n",
    "prediction = extra_trees_model.predict(sample_data)\n",
    "\n",
    "# Print the prediction\n",
    "print(\"Prediction:\", prediction)"
   ]
  },
  {
   "cell_type": "code",
   "execution_count": 55,
   "id": "3fa6f7c6",
   "metadata": {
    "ExecuteTime": {
     "end_time": "2024-02-14T15:37:16.770142Z",
     "start_time": "2024-02-14T15:37:16.740130Z"
    }
   },
   "outputs": [
    {
     "name": "stdout",
     "output_type": "stream",
     "text": [
      "Prediction: [0]\n"
     ]
    }
   ],
   "source": [
    "\n",
    "# Sample data\n",
    "sample_data = pd.DataFrame([[0.600000, 0.30, 0.20, 1.00, 1.00, 1.00, 0.50, 18, 1.00]],\n",
    "                columns=['Income', 'Age', 'Experience', 'Married/Single', 'House_Ownership', 'Car_Ownership', \n",
    "                             'Profession', 'CURRENT_JOB_YRS', 'CURRENT_HOUSE_YRS'])\n",
    "\n",
    "# Use the trained Extra Trees Classifier model to make predictions\n",
    "prediction = extra_trees_model.predict(sample_data)\n",
    "\n",
    "# Print the prediction\n",
    "print(\"Prediction:\", prediction)\n"
   ]
  },
  {
   "cell_type": "code",
   "execution_count": null,
   "id": "ea2bd986",
   "metadata": {},
   "outputs": [],
   "source": []
  }
 ],
 "metadata": {
  "kernelspec": {
   "display_name": "Python 3 (ipykernel)",
   "language": "python",
   "name": "python3"
  },
  "language_info": {
   "codemirror_mode": {
    "name": "ipython",
    "version": 3
   },
   "file_extension": ".py",
   "mimetype": "text/x-python",
   "name": "python",
   "nbconvert_exporter": "python",
   "pygments_lexer": "ipython3",
   "version": "3.11.5"
  },
  "varInspector": {
   "cols": {
    "lenName": 16,
    "lenType": 16,
    "lenVar": 40
   },
   "kernels_config": {
    "python": {
     "delete_cmd_postfix": "",
     "delete_cmd_prefix": "del ",
     "library": "var_list.py",
     "varRefreshCmd": "print(var_dic_list())"
    },
    "r": {
     "delete_cmd_postfix": ") ",
     "delete_cmd_prefix": "rm(",
     "library": "var_list.r",
     "varRefreshCmd": "cat(var_dic_list()) "
    }
   },
   "types_to_exclude": [
    "module",
    "function",
    "builtin_function_or_method",
    "instance",
    "_Feature"
   ],
   "window_display": false
  }
 },
 "nbformat": 4,
 "nbformat_minor": 5
}
